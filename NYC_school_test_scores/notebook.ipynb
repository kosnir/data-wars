{
 "cells": [
  {
   "cell_type": "markdown",
   "id": "fe0ea788-58dd-459e-8976-fafdb5c05c6d",
   "metadata": {},
   "source": [
    "![New York City schoolbus](schoolbus.jpg)\n",
    "\n",
    "Photo by [Jannis Lucas](https://unsplash.com/@jannis_lucas) on [Unsplash](https://unsplash.com).\n",
    "<br>\n",
    "\n",
    "This project, proposed by **DataCamp**, aims to analyze the performance of New York public schools on the SAT, a standardized test taken annually by high school students in the United States. The test assesses skills in reading, math, and writing, playing a crucial role in the college admissions process.\n",
    "\n",
    "Analyzing SAT performance is essential for various stakeholders, including education policymakers, researchers, government agencies, and parents seeking the best schools for their children.\n",
    "\n",
    "Using the `schools.csv` dataset provided by **DataCamp**, this project explores and answers three key questions about the performance of New York public schools on the SAT. It applies data analysis techniques to identify performance patterns, influencing factors, and potential educational inequalities across the city."
   ]
  },
  {
   "cell_type": "code",
   "execution_count": 1,
   "id": "d0eb4f16-5a99-460d-a5ba-706b7ef0bbe7",
   "metadata": {
    "executionCancelledAt": null,
    "executionTime": 30,
    "id": "bA5ajAmk7XH6",
    "lastExecutedAt": 1736183990233,
    "lastExecutedByKernel": "5bbe4539-f765-49f1-92ee-ba0e2d6da2b8",
    "lastScheduledRunId": null,
    "lastSuccessfullyExecutedCode": "# Re-run this cell \nimport pandas as pd\n\n# Read in the data\nschools = pd.read_csv(\"schools.csv\")\n\n# Preview the data\nschools.head()\n\n# Start coding here...\n# Add as many cells as you like...",
    "outputsMetadata": {
     "0": {
      "height": 550,
      "tableState": {
       "quickFilterText": ""
      },
      "type": "dataFrame"
     }
    }
   },
   "outputs": [
    {
     "data": {
      "text/html": [
       "<div>\n",
       "<style scoped>\n",
       "    .dataframe tbody tr th:only-of-type {\n",
       "        vertical-align: middle;\n",
       "    }\n",
       "\n",
       "    .dataframe tbody tr th {\n",
       "        vertical-align: top;\n",
       "    }\n",
       "\n",
       "    .dataframe thead th {\n",
       "        text-align: right;\n",
       "    }\n",
       "</style>\n",
       "<table border=\"1\" class=\"dataframe\">\n",
       "  <thead>\n",
       "    <tr style=\"text-align: right;\">\n",
       "      <th></th>\n",
       "      <th>school_name</th>\n",
       "      <th>borough</th>\n",
       "      <th>building_code</th>\n",
       "      <th>average_math</th>\n",
       "      <th>average_reading</th>\n",
       "      <th>average_writing</th>\n",
       "      <th>percent_tested</th>\n",
       "    </tr>\n",
       "  </thead>\n",
       "  <tbody>\n",
       "    <tr>\n",
       "      <th>0</th>\n",
       "      <td>New Explorations into Science, Technology and ...</td>\n",
       "      <td>Manhattan</td>\n",
       "      <td>M022</td>\n",
       "      <td>657</td>\n",
       "      <td>601</td>\n",
       "      <td>601</td>\n",
       "      <td>NaN</td>\n",
       "    </tr>\n",
       "    <tr>\n",
       "      <th>1</th>\n",
       "      <td>Essex Street Academy</td>\n",
       "      <td>Manhattan</td>\n",
       "      <td>M445</td>\n",
       "      <td>395</td>\n",
       "      <td>411</td>\n",
       "      <td>387</td>\n",
       "      <td>78.9</td>\n",
       "    </tr>\n",
       "    <tr>\n",
       "      <th>2</th>\n",
       "      <td>Lower Manhattan Arts Academy</td>\n",
       "      <td>Manhattan</td>\n",
       "      <td>M445</td>\n",
       "      <td>418</td>\n",
       "      <td>428</td>\n",
       "      <td>415</td>\n",
       "      <td>65.1</td>\n",
       "    </tr>\n",
       "    <tr>\n",
       "      <th>3</th>\n",
       "      <td>High School for Dual Language and Asian Studies</td>\n",
       "      <td>Manhattan</td>\n",
       "      <td>M445</td>\n",
       "      <td>613</td>\n",
       "      <td>453</td>\n",
       "      <td>463</td>\n",
       "      <td>95.9</td>\n",
       "    </tr>\n",
       "    <tr>\n",
       "      <th>4</th>\n",
       "      <td>Henry Street School for International Studies</td>\n",
       "      <td>Manhattan</td>\n",
       "      <td>M056</td>\n",
       "      <td>410</td>\n",
       "      <td>406</td>\n",
       "      <td>381</td>\n",
       "      <td>59.7</td>\n",
       "    </tr>\n",
       "  </tbody>\n",
       "</table>\n",
       "</div>"
      ],
      "text/plain": [
       "                                         school_name    borough building_code  \\\n",
       "0  New Explorations into Science, Technology and ...  Manhattan          M022   \n",
       "1                               Essex Street Academy  Manhattan          M445   \n",
       "2                       Lower Manhattan Arts Academy  Manhattan          M445   \n",
       "3    High School for Dual Language and Asian Studies  Manhattan          M445   \n",
       "4      Henry Street School for International Studies  Manhattan          M056   \n",
       "\n",
       "   average_math  average_reading  average_writing  percent_tested  \n",
       "0           657              601              601             NaN  \n",
       "1           395              411              387            78.9  \n",
       "2           418              428              415            65.1  \n",
       "3           613              453              463            95.9  \n",
       "4           410              406              381            59.7  "
      ]
     },
     "execution_count": 1,
     "metadata": {},
     "output_type": "execute_result"
    }
   ],
   "source": [
    "import pandas as pd\n",
    "\n",
    "schools = pd.read_csv(\"schools.csv\")\n",
    "\n",
    "schools.head()"
   ]
  },
  {
   "cell_type": "markdown",
   "id": "ee633cc3-8fe8-4882-87e4-fe98d8e815f9",
   "metadata": {},
   "source": [
    "## 1. Which NYC schools have the best math results?\n",
    "\n",
    "The best math results are at least 80% of the *maximum possible score of 800* for math."
   ]
  },
  {
   "cell_type": "code",
   "execution_count": 163,
   "id": "184a4ff8-dc5a-403f-b765-7b5c76b5f8be",
   "metadata": {
    "executionCancelledAt": null,
    "executionTime": 52,
    "lastExecutedAt": 1736183990285,
    "lastExecutedByKernel": "5bbe4539-f765-49f1-92ee-ba0e2d6da2b8",
    "lastScheduledRunId": null,
    "lastSuccessfullyExecutedCode": "threshold = 0.8 * 800\n\nbest_math_schools = schools[schools[\"average_math\"] >= threshold]\nbest_math_schools = best_math_schools[[\"school_name\", \"average_math\"]].sort_values(by=\"average_math\", ascending=False)\nprint(best_math_school)\n\n",
    "outputsMetadata": {
     "0": {
      "height": 269,
      "type": "stream"
     }
    }
   },
   "outputs": [
    {
     "name": "stdout",
     "output_type": "stream",
     "text": [
      "                                                    average_math\n",
      "school_name                                                     \n",
      "Stuyvesant High School                                       754\n",
      "Bronx High School of Science                                 714\n",
      "Staten Island Technical High School                          711\n",
      "Queens High School for the Sciences at York Col...           701\n",
      "High School for Mathematics, Science, and Engin...           683\n",
      "Brooklyn Technical High School                               682\n",
      "Townsend Harris High School                                  680\n",
      "High School of American Studies at Lehman College            669\n",
      "New Explorations into Science, Technology and M...           657\n",
      "Eleanor Roosevelt High School                                641\n"
     ]
    }
   ],
   "source": [
    "threshold = 0.8 * 800\n",
    "\n",
    "best_math_schools = schools[schools[\"average_math\"] >= threshold]\n",
    "best_math_schools = best_math_schools[[\"school_name\", \"average_math\"]].sort_values(by=\"average_math\", ascending=False)\n",
    "print(best_math_school)\n",
    "\n"
   ]
  },
  {
   "cell_type": "markdown",
   "id": "05a615a0-d996-4e8b-8a86-9dc0dd9fe117",
   "metadata": {},
   "source": [
    "## 2. What are the top 10 performing schools based on the combined SAT scores?"
   ]
  },
  {
   "cell_type": "code",
   "execution_count": 164,
   "id": "7ed17759-6bed-4d09-b9c1-be3b168bdb43",
   "metadata": {
    "executionCancelledAt": null,
    "executionTime": 50,
    "lastExecutedAt": 1736183990335,
    "lastExecutedByKernel": "5bbe4539-f765-49f1-92ee-ba0e2d6da2b8",
    "lastScheduledRunId": null,
    "lastSuccessfullyExecutedCode": "top_10_schools = schools\ntop_10_schools[\"total_SAT\"] = top_10_schools[\"average_math\"] + top_10_schools[\"average_reading\"] + top_10_schools[\"average_writing\"]\ntop_10_schools = schools[[\"school_name\", \"total_SAT\"]].sort_values(by=\"total_SAT\", ascending=False).head(10)\nprint(top_10_schools)\n",
    "outputsMetadata": {
     "0": {
      "height": 248,
      "type": "stream"
     }
    }
   },
   "outputs": [
    {
     "name": "stdout",
     "output_type": "stream",
     "text": [
      "                                           school_name  total_SAT\n",
      "88                              Stuyvesant High School       2144\n",
      "170                       Bronx High School of Science       2041\n",
      "93                 Staten Island Technical High School       2041\n",
      "174  High School of American Studies at Lehman College       2013\n",
      "333                        Townsend Harris High School       1981\n",
      "365  Queens High School for the Sciences at York Co...       1947\n",
      "5                       Bard High School Early College       1914\n",
      "280                     Brooklyn Technical High School       1896\n",
      "45                       Eleanor Roosevelt High School       1889\n",
      "68   High School for Mathematics, Science, and Engi...       1889\n"
     ]
    }
   ],
   "source": [
    "top_10_schools = schools\n",
    "top_10_schools[\"total_SAT\"] = top_10_schools[\"average_math\"] + top_10_schools[\"average_reading\"] + top_10_schools[\"average_writing\"]\n",
    "top_10_schools = schools[[\"school_name\", \"total_SAT\"]].sort_values(by=\"total_SAT\", ascending=False).head(10)\n",
    "print(top_10_schools)\n"
   ]
  },
  {
   "cell_type": "markdown",
   "id": "45b2ad69-e959-493c-ac37-59427e9a3a3b",
   "metadata": {},
   "source": [
    "## 3. Which single borough has the largest standard deviation in the combined SAT score?"
   ]
  },
  {
   "cell_type": "code",
   "execution_count": 165,
   "id": "62773b7f-048d-4295-8c1e-60e46062ebb2",
   "metadata": {
    "executionCancelledAt": null,
    "executionTime": 60,
    "lastExecutedAt": 1736183990395,
    "lastExecutedByKernel": "5bbe4539-f765-49f1-92ee-ba0e2d6da2b8",
    "lastScheduledRunId": null,
    "lastSuccessfullyExecutedCode": "largest_std_dev = schools.copy()\nlargest_std_dev[\"num_schools\"] = largest_std_dev.groupby(\"borough\")[\"borough\"].transform('count')\nlargest_std_dev[\"average_SAT\"] = largest_std_dev.groupby(\"borough\")[\"total_SAT\"].transform('mean').round(2)\nlargest_std_dev[\"std_SAT\"] = largest_std_dev.groupby(\"borough\")[\"total_SAT\"].transform('std').round(2)\nlargest_std_dev = largest_std_dev[[\"borough\", \"num_schools\", \"average_SAT\", \"std_SAT\"]].drop_duplicates().set_index(\"borough\").head(1)\nlargest_std_dev",
    "outputsMetadata": {
     "0": {
      "height": 550,
      "tableState": {
       "quickFilterText": ""
      },
      "type": "dataFrame"
     }
    }
   },
   "outputs": [
    {
     "data": {
      "application/com.datacamp.data-table.v2+json": {
       "table": {
        "data": {
         "average_SAT": [
          1340.13
         ],
         "borough": [
          "Manhattan"
         ],
         "num_schools": [
          89
         ],
         "std_SAT": [
          230.29
         ]
        },
        "schema": {
         "fields": [
          {
           "name": "borough",
           "type": "string"
          },
          {
           "name": "num_schools",
           "type": "integer"
          },
          {
           "name": "average_SAT",
           "type": "number"
          },
          {
           "name": "std_SAT",
           "type": "number"
          }
         ],
         "pandas_version": "1.4.0",
         "primaryKey": [
          "borough"
         ]
        }
       },
       "total_rows": 1,
       "truncation_type": null
      },
      "text/html": [
       "<div>\n",
       "<style scoped>\n",
       "    .dataframe tbody tr th:only-of-type {\n",
       "        vertical-align: middle;\n",
       "    }\n",
       "\n",
       "    .dataframe tbody tr th {\n",
       "        vertical-align: top;\n",
       "    }\n",
       "\n",
       "    .dataframe thead th {\n",
       "        text-align: right;\n",
       "    }\n",
       "</style>\n",
       "<table border=\"1\" class=\"dataframe\">\n",
       "  <thead>\n",
       "    <tr style=\"text-align: right;\">\n",
       "      <th></th>\n",
       "      <th>num_schools</th>\n",
       "      <th>average_SAT</th>\n",
       "      <th>std_SAT</th>\n",
       "    </tr>\n",
       "    <tr>\n",
       "      <th>borough</th>\n",
       "      <th></th>\n",
       "      <th></th>\n",
       "      <th></th>\n",
       "    </tr>\n",
       "  </thead>\n",
       "  <tbody>\n",
       "    <tr>\n",
       "      <th>Manhattan</th>\n",
       "      <td>89</td>\n",
       "      <td>1340.13</td>\n",
       "      <td>230.29</td>\n",
       "    </tr>\n",
       "  </tbody>\n",
       "</table>\n",
       "</div>"
      ],
      "text/plain": [
       "           num_schools  average_SAT  std_SAT\n",
       "borough                                     \n",
       "Manhattan           89      1340.13   230.29"
      ]
     },
     "execution_count": 165,
     "metadata": {
      "application/com.datacamp.data-table.v2+json": {
       "status": "success"
      }
     },
     "output_type": "execute_result"
    }
   ],
   "source": [
    "largest_std_dev = schools.copy()\n",
    "largest_std_dev[\"num_schools\"] = largest_std_dev.groupby(\"borough\")[\"borough\"].transform('count')\n",
    "largest_std_dev[\"average_SAT\"] = largest_std_dev.groupby(\"borough\")[\"total_SAT\"].transform('mean').round(2)\n",
    "largest_std_dev[\"std_SAT\"] = largest_std_dev.groupby(\"borough\")[\"total_SAT\"].transform('std').round(2)\n",
    "largest_std_dev = largest_std_dev[[\"borough\", \"num_schools\", \"average_SAT\", \"std_SAT\"]].drop_duplicates().set_index(\"borough\").head(1)\n",
    "largest_std_dev"
   ]
  }
 ],
 "metadata": {
  "editor": "DataLab",
  "kernelspec": {
   "display_name": "Python 3 (ipykernel)",
   "language": "python",
   "name": "python3"
  },
  "language_info": {
   "codemirror_mode": {
    "name": "ipython",
    "version": 3
   },
   "file_extension": ".py",
   "mimetype": "text/x-python",
   "name": "python",
   "nbconvert_exporter": "python",
   "pygments_lexer": "ipython3",
   "version": "3.12.6"
  }
 },
 "nbformat": 4,
 "nbformat_minor": 5
}
